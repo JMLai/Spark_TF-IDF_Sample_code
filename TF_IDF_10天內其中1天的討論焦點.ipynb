{
 "cells": [
  {
   "cell_type": "code",
   "execution_count": null,
   "metadata": {
    "collapsed": true
   },
   "outputs": [],
   "source": [
    "from math import sqrt\n",
    "\n",
    "from bs4 import BeautifulSoup\n",
    "\n",
    "from pyspark import SparkConf, SparkContext\n",
    "from pyspark.mllib.feature import HashingTF\n",
    "from pyspark.mllib.feature import IDF\n",
    "from pyspark.mllib.recommendation import *\n",
    "from pyspark.sql import SQLContext, Row\n",
    "from pyspark.sql.types import *\n",
    "import pyspark.sql.functions as func\n"
   ]
  },
  {
   "cell_type": "code",
   "execution_count": null,
   "metadata": {
    "collapsed": true
   },
   "outputs": [],
   "source": [
    "# 將 1.txt~100.txt 讀出並接成一個大 list\n",
    "\n",
    "test = []\n",
    "x = 1\n",
    "while x < 11 :\n",
    "\n",
    "    try:        \n",
    "        f = open('/home/jupyter/notebooks/test/' + str(x) + '.txt', 'r')\n",
    "        f = f.read()\n",
    "        test.append(f)\n",
    "        x = x + 1\n",
    "    except IOError:\n",
    "        print(\"No such file or directory: {filename}\".format(filename=str(x)))\n",
    "        x = x + 1\n",
    "        continue"
   ]
  },
  {
   "cell_type": "code",
   "execution_count": null,
   "metadata": {
    "collapsed": true
   },
   "outputs": [],
   "source": [
    "sc = SparkContext()"
   ]
  },
  {
   "cell_type": "code",
   "execution_count": null,
   "metadata": {
    "collapsed": true
   },
   "outputs": [],
   "source": [
    "# Spark 的進入點\n",
    "test1= sc.parallelize(test)"
   ]
  },
  {
   "cell_type": "code",
   "execution_count": null,
   "metadata": {
    "collapsed": true
   },
   "outputs": [],
   "source": [
    "# 將 list 中的每個值(文本)依據空格將個詞分隔成值在接成一個大 list\n",
    "test2 = test1.flatMap(lambda x: x.split(' '))\n",
    "test2 = test2.distinct()"
   ]
  },
  {
   "cell_type": "code",
   "execution_count": null,
   "metadata": {
    "collapsed": true
   },
   "outputs": [],
   "source": [
    "# 將 list 中的每個值(文本)依據空格將個詞分隔成值再依據文本分割成不同的 list\n",
    "test1 = test1.map(lambda x: x.split(' '))\n",
    "test1_collect = test1.collect()"
   ]
  },
  {
   "cell_type": "code",
   "execution_count": null,
   "metadata": {
    "collapsed": true
   },
   "outputs": [],
   "source": [
    "# 宣告Hash表的大小\n",
    "hashingTF = HashingTF()"
   ]
  },
  {
   "cell_type": "code",
   "execution_count": null,
   "metadata": {
    "collapsed": true
   },
   "outputs": [],
   "source": [
    "# 計算TF值\n",
    "tf = hashingTF.transform(test1)"
   ]
  },
  {
   "cell_type": "code",
   "execution_count": null,
   "metadata": {
    "scrolled": false
   },
   "outputs": [],
   "source": [
    "# 找出每個詞的 hash index 值\n",
    "tf1 = test2.map(lambda x: [x,hashingTF.indexOf(x)])\n",
    "c = tf1.collect()"
   ]
  },
  {
   "cell_type": "code",
   "execution_count": null,
   "metadata": {
    "scrolled": false
   },
   "outputs": [],
   "source": [
    "tf.cache()"
   ]
  },
  {
   "cell_type": "code",
   "execution_count": null,
   "metadata": {},
   "outputs": [],
   "source": [
    "# 計算tfidf值\n",
    "idf = IDF(minDocFreq=5).fit(tf)\n",
    "tfidf = idf.transform(tf)\n",
    "d = tfidf.collect()\n",
    "print(d)"
   ]
  },
  {
   "cell_type": "code",
   "execution_count": null,
   "metadata": {
    "collapsed": true
   },
   "outputs": [],
   "source": [
    "# 取出 n 篇文章 (n 個 list) 的 index 表\n",
    "tfidf_index = tfidf.take(10)"
   ]
  },
  {
   "cell_type": "code",
   "execution_count": null,
   "metadata": {
    "collapsed": true
   },
   "outputs": [],
   "source": [
    "# 用全部詞的大 list 放到第一張 index 表 (tfidf_index[0]) 中找出值\n",
    "tmp1 = c\n",
    "y = 0\n",
    "while y < len(c) :\n",
    "    try:        \n",
    "        tmp1[y].append(tfidf_index[7][tmp1[y][1]])\n",
    "        y = y + 1\n",
    "    except IndexError:\n",
    "        print(\"list index out of range: {index}\".format(index=str(y))) \n",
    "        y = y + 1\n",
    "        continue"
   ]
  },
  {
   "cell_type": "code",
   "execution_count": null,
   "metadata": {
    "scrolled": false
   },
   "outputs": [],
   "source": [
    "# 去掉 0 的值就得出第一篇文章有哪些詞\n",
    "word_1 = sc.parallelize(tmp1)\n",
    "bb  = word_1.filter(lambda x: x[2] != 0.0 )\n",
    "bbb = bb.filter(lambda x : x[2] > 2)\n",
    "bbbb = bbb.collect()\n",
    "print(bbbb)\n",
    "for i in bbbb :\n",
    "    x = i[2]\n",
    "    fid = open('/home/jupyter/notebooks/test/0804.txt', 'a') \n",
    "    fid.write(str(x)+' '+ str(i[0])+'\\n')\n",
    "    fid.close()"
   ]
  },
  {
   "cell_type": "code",
   "execution_count": null,
   "metadata": {},
   "outputs": [],
   "source": [
    "cat /home/jupyter/notebooks/test/0804.txt"
   ]
  },
  {
   "cell_type": "code",
   "execution_count": null,
   "metadata": {
    "collapsed": true
   },
   "outputs": [],
   "source": [
    "rm /home/jupyter/notebooks/test/0804.txt"
   ]
  }
 ],
 "metadata": {
  "kernelspec": {
   "display_name": "Python 3",
   "language": "python",
   "name": "python3"
  },
  "language_info": {
   "codemirror_mode": {
    "name": "ipython",
    "version": 3
   },
   "file_extension": ".py",
   "mimetype": "text/x-python",
   "name": "python",
   "nbconvert_exporter": "python",
   "pygments_lexer": "ipython3",
   "version": "3.5.4"
  }
 },
 "nbformat": 4,
 "nbformat_minor": 1
}
